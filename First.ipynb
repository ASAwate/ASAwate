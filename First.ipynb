{
  "cells": [
    {
      "cell_type": "markdown",
      "metadata": {
        "id": "view-in-github",
        "colab_type": "text"
      },
      "source": [
        "<a href=\"https://colab.research.google.com/github/ASAwate/ASAwate/blob/main/First.ipynb\" target=\"_parent\"><img src=\"https://colab.research.google.com/assets/colab-badge.svg\" alt=\"Open In Colab\"/></a>"
      ]
    },
    {
      "cell_type": "markdown",
      "metadata": {
        "id": "PzLmxyyhHwip"
      },
      "source": [
        "# This is Lab1 "
      ]
    },
    {
      "cell_type": "markdown",
      "metadata": {
        "id": "2viz6mMZHwi5"
      },
      "source": [
        "this program is to find the **area** and _circumference_ of circle"
      ]
    },
    {
      "cell_type": "code",
      "execution_count": null,
      "metadata": {
        "id": "XHK7aqPuHwi9",
        "outputId": "d5c6a166-e2eb-4278-ec9e-086c8b73c4dc"
      },
      "outputs": [
        {
          "name": "stdout",
          "output_type": "stream",
          "text": [
            "Enter the radius:5\n"
          ]
        }
      ],
      "source": [
        "r = int(input(\"Enter the radius:\"))"
      ]
    },
    {
      "cell_type": "code",
      "execution_count": null,
      "metadata": {
        "id": "9fa5Q7DOHwjB"
      },
      "outputs": [],
      "source": [
        "A =  3.14*r*r"
      ]
    },
    {
      "cell_type": "code",
      "execution_count": null,
      "metadata": {
        "id": "w7eiFeVeHwjC"
      },
      "outputs": [],
      "source": [
        "c = 3.14*2*r"
      ]
    },
    {
      "cell_type": "code",
      "execution_count": null,
      "metadata": {
        "id": "OkYHKKr-HwjC",
        "outputId": "d7cc5004-6c44-446d-f50e-4c3eb4894d73"
      },
      "outputs": [
        {
          "name": "stdout",
          "output_type": "stream",
          "text": [
            "Area =  78.5\n"
          ]
        }
      ],
      "source": [
        "print('Area = ',A)"
      ]
    },
    {
      "cell_type": "code",
      "execution_count": null,
      "metadata": {
        "id": "4SeWpqZxHwjD",
        "outputId": "193a4809-d51d-4ea6-a03d-01158f4227ae"
      },
      "outputs": [
        {
          "name": "stdout",
          "output_type": "stream",
          "text": [
            "circumference =  31.400000000000002\n"
          ]
        }
      ],
      "source": [
        "print('circumference = ',c)"
      ]
    }
  ],
  "metadata": {
    "kernelspec": {
      "display_name": "Python 3",
      "language": "python",
      "name": "python3"
    },
    "language_info": {
      "codemirror_mode": {
        "name": "ipython",
        "version": 3
      },
      "file_extension": ".py",
      "mimetype": "text/x-python",
      "name": "python",
      "nbconvert_exporter": "python",
      "pygments_lexer": "ipython3",
      "version": "3.7.3"
    },
    "colab": {
      "name": "First.ipynb",
      "provenance": [],
      "include_colab_link": true
    }
  },
  "nbformat": 4,
  "nbformat_minor": 0
}